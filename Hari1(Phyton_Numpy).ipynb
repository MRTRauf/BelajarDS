{
  "nbformat": 4,
  "nbformat_minor": 0,
  "metadata": {
    "colab": {
      "name": "Hari1(Phyton-Numpy).ipynb",
      "provenance": [],
      "collapsed_sections": []
    },
    "kernelspec": {
      "name": "python3",
      "display_name": "Python 3"
    }
  },
  "cells": [
    {
      "cell_type": "code",
      "metadata": {
        "id": "U_70GxeF7uCY",
        "outputId": "208ba9e2-0aca-4b0c-b9dc-67b2d078c7ed",
        "colab": {
          "base_uri": "https://localhost:8080/",
          "height": 35
        }
      },
      "source": [
        "print(\"HHH\")"
      ],
      "execution_count": null,
      "outputs": [
        {
          "output_type": "stream",
          "text": [
            "HHH\n"
          ],
          "name": "stdout"
        }
      ]
    },
    {
      "cell_type": "code",
      "metadata": {
        "id": "6o0vIVSV9ZN8",
        "outputId": "c02d1d59-381d-4980-b8dc-3ade08275b2d",
        "colab": {
          "base_uri": "https://localhost:8080/",
          "height": 35
        }
      },
      "source": [
        "x = 23\n",
        "print(x)"
      ],
      "execution_count": null,
      "outputs": [
        {
          "output_type": "stream",
          "text": [
            "23\n"
          ],
          "name": "stdout"
        }
      ]
    },
    {
      "cell_type": "code",
      "metadata": {
        "id": "vQM_eVKY-qcQ"
      },
      "source": [
        "a = 2"
      ],
      "execution_count": null,
      "outputs": []
    },
    {
      "cell_type": "code",
      "metadata": {
        "id": "3A2cUGeJ9mm2",
        "outputId": "536a5474-3f5b-4933-df72-6195d3e14e8e",
        "colab": {
          "base_uri": "https://localhost:8080/",
          "height": 35
        }
      },
      "source": [
        "b = 1.0\n",
        "print(type(b))"
      ],
      "execution_count": null,
      "outputs": [
        {
          "output_type": "stream",
          "text": [
            "<class 'float'>\n"
          ],
          "name": "stdout"
        }
      ]
    },
    {
      "cell_type": "code",
      "metadata": {
        "id": "HwxEOTcR9wwR",
        "outputId": "8ed728b4-edeb-4da9-9ef9-76aeca461f11",
        "colab": {
          "base_uri": "https://localhost:8080/",
          "height": 35
        }
      },
      "source": [
        "c = 5j\n",
        "d = 1 + 7j\n",
        "e = complex(5, 8)\n",
        "\n",
        "print(e, type(e))"
      ],
      "execution_count": null,
      "outputs": [
        {
          "output_type": "stream",
          "text": [
            "(5+8j) <class 'complex'>\n"
          ],
          "name": "stdout"
        }
      ]
    },
    {
      "cell_type": "code",
      "metadata": {
        "id": "v_3Ajcbk-PXY",
        "outputId": "ac502875-0e9f-4653-db1a-9aaa7311f2f5",
        "colab": {
          "base_uri": "https://localhost:8080/",
          "height": 53
        }
      },
      "source": [
        "jumlah = a+b\n",
        "kurang = c-a\n",
        "bagi = a/5\n",
        "kali = a*4\n",
        "pangkat = a**7\n",
        "bagi_int = a//5\n",
        "\n",
        "print (bagi_int, type(bagi_int))\n",
        "print (kurang, type(kurang))"
      ],
      "execution_count": null,
      "outputs": [
        {
          "output_type": "stream",
          "text": [
            "4 <class 'int'>\n",
            "(-23+5j) <class 'complex'>\n"
          ],
          "name": "stdout"
        }
      ]
    },
    {
      "cell_type": "code",
      "metadata": {
        "id": "jyLXd44a_zr-",
        "outputId": "74a5cdaf-919b-416d-f8bf-c3de11d5d565",
        "colab": {
          "base_uri": "https://localhost:8080/",
          "height": 35
        }
      },
      "source": [
        "a = float (2)\n",
        "b = int(2.0)\n",
        "c = complex(5)\n",
        "\n",
        "print(a)"
      ],
      "execution_count": null,
      "outputs": [
        {
          "output_type": "stream",
          "text": [
            "2.0\n"
          ],
          "name": "stdout"
        }
      ]
    },
    {
      "cell_type": "code",
      "metadata": {
        "id": "QaLPg8nLAH1u",
        "outputId": "d4136d00-1c42-411c-84c2-dc09613f95d5",
        "colab": {
          "base_uri": "https://localhost:8080/",
          "height": 35
        }
      },
      "source": [
        "string1 = \"HHH\"\n",
        "contoh = 'HHH'\n",
        "\n",
        "print(contoh)"
      ],
      "execution_count": null,
      "outputs": [
        {
          "output_type": "stream",
          "text": [
            "HHH\n"
          ],
          "name": "stdout"
        }
      ]
    },
    {
      "cell_type": "code",
      "metadata": {
        "id": "us36CTFfA8PR",
        "outputId": "1270d7a0-7af3-4cd9-bd55-635004ec914c",
        "colab": {
          "base_uri": "https://localhost:8080/",
          "height": 53
        }
      },
      "source": [
        "x = \"Hell' World\"\n",
        "y = '\"P\"'\n",
        "print(y)\n",
        "print(x)"
      ],
      "execution_count": null,
      "outputs": [
        {
          "output_type": "stream",
          "text": [
            "\"P\"\n",
            "Hell' World\n"
          ],
          "name": "stdout"
        }
      ]
    },
    {
      "cell_type": "code",
      "metadata": {
        "id": "EWPOxaNJBloG",
        "outputId": "9b534b75-fdb6-4a5e-e4de-2b26c77f8969",
        "colab": {
          "base_uri": "https://localhost:8080/",
          "height": 35
        }
      },
      "source": [
        "nama = \"MRT\"\n",
        "sapa = f\"hi {nama}\"\n",
        "sapa2 = \"halo {}\".format(nama)\n",
        "\n",
        "\n",
        "print(sapa2)"
      ],
      "execution_count": null,
      "outputs": [
        {
          "output_type": "stream",
          "text": [
            "halo MRT\n"
          ],
          "name": "stdout"
        }
      ]
    },
    {
      "cell_type": "code",
      "metadata": {
        "id": "3qSagvstCU7X",
        "outputId": "63c61e83-ad12-4801-82d6-70e0c7f72fdc",
        "colab": {
          "base_uri": "https://localhost:8080/",
          "height": 35
        }
      },
      "source": [
        "karakter = \"dnaidaindaudssnia\"\n",
        "\n",
        "print(len(karakter))\n"
      ],
      "execution_count": null,
      "outputs": [
        {
          "output_type": "stream",
          "text": [
            "17\n"
          ],
          "name": "stdout"
        }
      ]
    },
    {
      "cell_type": "code",
      "metadata": {
        "id": "4GVeB1eaCyLP",
        "outputId": "4f33fb33-f03c-42e8-f5c6-1a38698534ac",
        "colab": {
          "base_uri": "https://localhost:8080/",
          "height": 35
        }
      },
      "source": [
        "print(float(int(\"7\")))"
      ],
      "execution_count": null,
      "outputs": [
        {
          "output_type": "stream",
          "text": [
            "7.0\n"
          ],
          "name": "stdout"
        }
      ]
    },
    {
      "cell_type": "code",
      "metadata": {
        "id": "xek2o9JfDKFH"
      },
      "source": [
        ""
      ],
      "execution_count": null,
      "outputs": []
    },
    {
      "cell_type": "markdown",
      "metadata": {
        "id": "UKJa8SrVDiIF"
      },
      "source": [
        "------Tipe Array----"
      ]
    },
    {
      "cell_type": "code",
      "metadata": {
        "id": "l9HduD65FArh",
        "outputId": "f057edec-b206-4b1c-f52d-cbbc38464ab1",
        "colab": {
          "base_uri": "https://localhost:8080/",
          "height": 71
        }
      },
      "source": [
        "print(a[2])\n",
        "print(a[1])\n",
        "print(b[-1])      #      -> urutan terakhir\n"
      ],
      "execution_count": null,
      "outputs": [
        {
          "output_type": "stream",
          "text": [
            "5.0\n",
            "2.0\n",
            "0\n"
          ],
          "name": "stdout"
        }
      ]
    },
    {
      "cell_type": "code",
      "metadata": {
        "id": "yGAVzUuQDoeG"
      },
      "source": [
        "a = [1, 2.0, \"5.0\", 4, 5] #tipelist\n",
        "b = (1, 4, 5,0) #tipetuple -> tidak bisa diubah\n",
        "                #           ->  bisa tidak pakai kurung\n",
        "c = {4, 6, 7, 7} #tipeset -> tidak memungkinkan nilai sama berulang (teori himpunan)\n",
        "\n"
      ],
      "execution_count": null,
      "outputs": []
    },
    {
      "cell_type": "code",
      "metadata": {
        "id": "eGpi0RwKF71Z",
        "outputId": "fc01a36d-e3eb-4264-bb36-1b4d210c8c4b",
        "colab": {
          "base_uri": "https://localhost:8080/",
          "height": 71
        }
      },
      "source": [
        "print(a[0:4])\n",
        "print(a[:3])\n",
        "print(a[1:])"
      ],
      "execution_count": null,
      "outputs": [
        {
          "output_type": "stream",
          "text": [
            "[1, 2.0, '5.0', 4]\n",
            "[1, 2.0, '5.0']\n",
            "[2.0, '5.0', 4, 5]\n"
          ],
          "name": "stdout"
        }
      ]
    },
    {
      "cell_type": "code",
      "metadata": {
        "id": "okVhIdo5Gkfs",
        "outputId": "6f250668-47c5-40c5-ca85-a7d1c315ce82",
        "colab": {
          "base_uri": "https://localhost:8080/",
          "height": 53
        }
      },
      "source": [
        "print(a[0::2])     # titik dua setelah urutan artinya mulai berapa kali\n",
        "print(a[0:4:2])    #format [mulaitulis : mulaiberhenti : step]"
      ],
      "execution_count": null,
      "outputs": [
        {
          "output_type": "stream",
          "text": [
            "[1, '5.0', 5]\n",
            "[1, '5.0']\n"
          ],
          "name": "stdout"
        }
      ]
    },
    {
      "cell_type": "code",
      "metadata": {
        "id": "eHZm6Az2G9qN",
        "outputId": "70f29b9a-a693-4cd3-cde9-9190b0dac897",
        "colab": {
          "base_uri": "https://localhost:8080/",
          "height": 35
        }
      },
      "source": [
        "a = [1, 2, 3, 4, 5, 6]\n",
        "a[1] = 10\n",
        "print(a)"
      ],
      "execution_count": null,
      "outputs": [
        {
          "output_type": "stream",
          "text": [
            "[1, 10, 3, 4, 5, 6]\n"
          ],
          "name": "stdout"
        }
      ]
    },
    {
      "cell_type": "code",
      "metadata": {
        "id": "t-vfcASCHQPw",
        "outputId": "cf92f236-10b8-4d76-b183-1dc4d1c4af53",
        "colab": {
          "base_uri": "https://localhost:8080/",
          "height": 53
        }
      },
      "source": [
        "a = {\"nama\" : \"MRT\", \"Status\" : \"Kabur\"} #\"Key\" : \"Value\", untuk memanggil ditulis \"Key\"\n",
        "\n",
        "print(a[\"nama\"])\n",
        "a[\"nama\"] = \"Dobleh\"\n",
        "print(a)"
      ],
      "execution_count": null,
      "outputs": [
        {
          "output_type": "stream",
          "text": [
            "MRT\n",
            "{'nama': 'Dobleh', 'Status': 'Kabur'}\n"
          ],
          "name": "stdout"
        }
      ]
    },
    {
      "cell_type": "code",
      "metadata": {
        "id": "j1CK4nLCJIQu",
        "outputId": "dba210db-6ce2-4138-e39b-620b5d5972c9",
        "colab": {
          "base_uri": "https://localhost:8080/",
          "height": 35
        }
      },
      "source": [
        "a = [1,2,3,4]\n",
        "a.append(5)\n",
        "a.insert(1, 15)     #(setelah, isi)\n",
        "print(a)"
      ],
      "execution_count": null,
      "outputs": [
        {
          "output_type": "stream",
          "text": [
            "[1, 15, 2, 3, 4, 5]\n"
          ],
          "name": "stdout"
        }
      ]
    },
    {
      "cell_type": "code",
      "metadata": {
        "id": "PsTjMjfBJlWB",
        "outputId": "1b0991bf-118e-42e4-f839-3d026b0637b3",
        "colab": {
          "base_uri": "https://localhost:8080/",
          "height": 53
        }
      },
      "source": [
        "a = [1,2,3,4]\n",
        "b = a.copy()\n",
        "b[1] = 9\n",
        "print(a)\n",
        "print(b)\n"
      ],
      "execution_count": null,
      "outputs": [
        {
          "output_type": "stream",
          "text": [
            "[1, 2, 3, 4]\n",
            "[1, 9, 3, 4]\n"
          ],
          "name": "stdout"
        }
      ]
    },
    {
      "cell_type": "code",
      "metadata": {
        "id": "Uwukttb4DkDA"
      },
      "source": [
        ""
      ],
      "execution_count": null,
      "outputs": []
    },
    {
      "cell_type": "code",
      "metadata": {
        "id": "BPAoFuRsMnF2",
        "outputId": "b621b1e6-3c99-4fb0-fa1a-e2538f846410",
        "colab": {
          "base_uri": "https://localhost:8080/",
          "height": 35
        }
      },
      "source": [
        "a = True\n",
        "b = False\n",
        "# Operator : <, >, <=, >=,==,!=\n",
        "# Operator dlm simbol : and (&), or (|), not (~)\n",
        "\n",
        "c = ((6<7 and 6==7)) or ((False and (2!=2)))\n",
        "print(c)\n"
      ],
      "execution_count": null,
      "outputs": [
        {
          "output_type": "stream",
          "text": [
            "False\n"
          ],
          "name": "stdout"
        }
      ]
    },
    {
      "cell_type": "code",
      "metadata": {
        "id": "OJbRoGBnOmRt",
        "outputId": "68a8f61b-17dc-4504-cf1f-c99fadd14ec9",
        "colab": {
          "base_uri": "https://localhost:8080/",
          "height": 35
        }
      },
      "source": [
        "Nilai = 6\n",
        "\n",
        "if Nilai> 3:\n",
        "  print(\"Nilai lebih dari 3\")\n",
        "elif Nilai<3 :\n",
        "  print(\"Nilai kurang dari 3\")\n",
        "else:\n",
        "  print(\"Nilai = 3\")"
      ],
      "execution_count": null,
      "outputs": [
        {
          "output_type": "stream",
          "text": [
            "Nilai lebih dari 3\n"
          ],
          "name": "stdout"
        }
      ]
    },
    {
      "cell_type": "code",
      "metadata": {
        "id": "Oy4IPtjkPfx7",
        "outputId": "ab399710-25ac-4294-ee9b-20c11908ee63",
        "colab": {
          "base_uri": "https://localhost:8080/",
          "height": 106
        }
      },
      "source": [
        "a = [1]\n",
        "b = [1,2,3,4,5,6]\n",
        "\n",
        "if a:\n",
        "  print(\"YA\")\n",
        "  if True:\n",
        "    print(\"A\")\n",
        "if 1:\n",
        "  print(\"YA JUGA\")\n",
        "if 2 in b:\n",
        "  print(\"ada\")\n",
        "\n",
        "a = None\n",
        "\n",
        "if a is None:\n",
        "  print(\"None\")\n",
        "if a is not None:\n",
        "  print(\"Uduk None\")\n"
      ],
      "execution_count": null,
      "outputs": [
        {
          "output_type": "stream",
          "text": [
            "YA\n",
            "A\n",
            "YA JUGA\n",
            "ada\n",
            "None\n"
          ],
          "name": "stdout"
        }
      ]
    },
    {
      "cell_type": "code",
      "metadata": {
        "id": "BcnTTBnNRJqv"
      },
      "source": [
        ""
      ],
      "execution_count": null,
      "outputs": []
    },
    {
      "cell_type": "code",
      "metadata": {
        "id": "hsINkS3yRa75",
        "outputId": "649d9fde-13b4-4b9a-b585-30e0e161457c",
        "colab": {
          "base_uri": "https://localhost:8080/",
          "height": 124
        }
      },
      "source": [
        "a = 1\n",
        "while a<7:\n",
        "  a +=1\n",
        "  print(a)\n"
      ],
      "execution_count": null,
      "outputs": [
        {
          "output_type": "stream",
          "text": [
            "2\n",
            "3\n",
            "4\n",
            "5\n",
            "6\n",
            "7\n"
          ],
          "name": "stdout"
        }
      ]
    },
    {
      "cell_type": "code",
      "metadata": {
        "id": "TNBxbyTtSDMv",
        "outputId": "6e290e7c-a62a-4215-b3bf-546e301e3aa9",
        "colab": {
          "base_uri": "https://localhost:8080/",
          "height": 124
        }
      },
      "source": [
        "a = 0   #digunakan saat tidak tau kapan terpenuhi, tetapi berhenti saat terpenuhi\n",
        "while True:\n",
        "  print(a)\n",
        "  a += 1\n",
        "  if a > 5:\n",
        "    break"
      ],
      "execution_count": null,
      "outputs": [
        {
          "output_type": "stream",
          "text": [
            "0\n",
            "1\n",
            "2\n",
            "3\n",
            "4\n",
            "5\n"
          ],
          "name": "stdout"
        }
      ]
    },
    {
      "cell_type": "code",
      "metadata": {
        "id": "MoVBAPg2Sk1T",
        "outputId": "f605ea84-8793-4d1d-e513-18583ca28264",
        "colab": {
          "base_uri": "https://localhost:8080/",
          "height": 106
        }
      },
      "source": [
        "for i in range(5):\n",
        "  print(i)"
      ],
      "execution_count": null,
      "outputs": [
        {
          "output_type": "stream",
          "text": [
            "0\n",
            "1\n",
            "2\n",
            "3\n",
            "4\n"
          ],
          "name": "stdout"
        }
      ]
    },
    {
      "cell_type": "code",
      "metadata": {
        "id": "btkl9LfuTCLx",
        "outputId": "967f9e34-49d6-4d37-9a0d-101613dff394",
        "colab": {
          "base_uri": "https://localhost:8080/",
          "height": 88
        }
      },
      "source": [
        "a = [1,2,3,4]\n",
        "\n",
        "for i in a:\n",
        "  print(i)"
      ],
      "execution_count": null,
      "outputs": [
        {
          "output_type": "stream",
          "text": [
            "1\n",
            "2\n",
            "3\n",
            "4\n"
          ],
          "name": "stdout"
        }
      ]
    },
    {
      "cell_type": "code",
      "metadata": {
        "id": "20gTAYfCTPnw",
        "outputId": "89f20b20-d4fb-40bc-c829-6c766714f924",
        "colab": {
          "base_uri": "https://localhost:8080/",
          "height": 160
        }
      },
      "source": [
        "a = [1,2,3,4]\n",
        "\n",
        "for i in a:\n",
        "  print(i)\n",
        "  print(i)"
      ],
      "execution_count": null,
      "outputs": [
        {
          "output_type": "stream",
          "text": [
            "1\n",
            "1\n",
            "2\n",
            "2\n",
            "3\n",
            "3\n",
            "4\n",
            "4\n"
          ],
          "name": "stdout"
        }
      ]
    },
    {
      "cell_type": "code",
      "metadata": {
        "id": "O6D8JVVDTSXu",
        "outputId": "da9422ab-27a9-4701-fe74-c012ed466ecf",
        "colab": {
          "base_uri": "https://localhost:8080/",
          "height": 53
        }
      },
      "source": [
        "a = {\"Nama\" : \"Dobleh\", \"Status\" : \"Kabur\"}\n",
        "\n",
        "for i in a:\n",
        "  print(i)\n",
        "\n",
        "  \n"
      ],
      "execution_count": null,
      "outputs": [
        {
          "output_type": "stream",
          "text": [
            "Nama\n",
            "Status\n"
          ],
          "name": "stdout"
        }
      ]
    },
    {
      "cell_type": "code",
      "metadata": {
        "id": "VQp-DZqXUHfK",
        "outputId": "59b1e668-2d89-4c30-96b5-c69e7bf120e3",
        "colab": {
          "base_uri": "https://localhost:8080/",
          "height": 53
        }
      },
      "source": [
        "a = {\"Nama\" : \"Dobleh\", \"Status\" : \"Kabur\"}\n",
        "\n",
        "for i in a:\n",
        "  print(a[i])"
      ],
      "execution_count": null,
      "outputs": [
        {
          "output_type": "stream",
          "text": [
            "Dobleh\n",
            "Kabur\n"
          ],
          "name": "stdout"
        }
      ]
    },
    {
      "cell_type": "code",
      "metadata": {
        "id": "jotuaAGRUK2U",
        "outputId": "707e895c-0991-449e-b78d-ae1be55a1bcb",
        "colab": {
          "base_uri": "https://localhost:8080/",
          "height": 53
        }
      },
      "source": [
        "for i in a.items():\n",
        "  print(i)"
      ],
      "execution_count": null,
      "outputs": [
        {
          "output_type": "stream",
          "text": [
            "('Nama', 'Dobleh')\n",
            "('Status', 'Kabur')\n"
          ],
          "name": "stdout"
        }
      ]
    },
    {
      "cell_type": "code",
      "metadata": {
        "id": "D3I7UNE1UdhW",
        "outputId": "f942068e-d479-4312-9519-c339623fb334",
        "colab": {
          "base_uri": "https://localhost:8080/",
          "height": 35
        }
      },
      "source": [
        "for i in range(1, 10, 1):\n",
        "  print(i)\n",
        "  if i<9:\n",
        "    break\n"
      ],
      "execution_count": null,
      "outputs": [
        {
          "output_type": "stream",
          "text": [
            "1\n"
          ],
          "name": "stdout"
        }
      ]
    },
    {
      "cell_type": "code",
      "metadata": {
        "id": "XivuerEwVRqn",
        "outputId": "5807d2c2-cf25-4fd6-8146-f8930639b1b0",
        "colab": {
          "base_uri": "https://localhost:8080/",
          "height": 71
        }
      },
      "source": [
        "a = [i for i in range(10)]\n",
        "\n",
        "key = [\"Nama\", \"Umur\"]\n",
        "value = [\"Wahyu\", 20]\n",
        "\n",
        "b = { key[i] : value [i] for i in range(len(key))}\n",
        "c = dict(zip(key, value))\n",
        "\n",
        "print(a)\n",
        "print(b)\n",
        "print(c)"
      ],
      "execution_count": null,
      "outputs": [
        {
          "output_type": "stream",
          "text": [
            "[0, 1, 2, 3, 4, 5, 6, 7, 8, 9]\n",
            "{'Nama': 'Wahyu', 'Umur': 20}\n",
            "{'Nama': 'Wahyu', 'Umur': 20}\n"
          ],
          "name": "stdout"
        }
      ]
    },
    {
      "cell_type": "code",
      "metadata": {
        "id": "WNSyZXQ4W8HZ",
        "outputId": "9f322c7c-2ba1-4a8e-93ea-800907a8179c",
        "colab": {
          "base_uri": "https://localhost:8080/",
          "height": 53
        }
      },
      "source": [
        "a = [1,2,3,4]\n",
        "b = set(a)\n",
        "c = tuple(a)\n",
        "\n",
        "print(b)\n",
        "print(c)"
      ],
      "execution_count": null,
      "outputs": [
        {
          "output_type": "stream",
          "text": [
            "{1, 2, 3, 4}\n",
            "(1, 2, 3, 4)\n"
          ],
          "name": "stdout"
        }
      ]
    },
    {
      "cell_type": "code",
      "metadata": {
        "id": "_nR6FOfKXW28",
        "outputId": "b613c41e-b3cd-4933-fa1d-d24d5652cc8d",
        "colab": {
          "base_uri": "https://localhost:8080/",
          "height": 71
        }
      },
      "source": [
        "nama = input(\"Namamu ? \")\n",
        "umur = input(\"Umurmu ? \")\n",
        "print(\"Hai \" + nama + \"nub\" + \" , Umurmu \" + umur + \" , Dasar Tuek\")"
      ],
      "execution_count": null,
      "outputs": [
        {
          "output_type": "stream",
          "text": [
            "Namamu ? Rev\n",
            "Umurmu ? 18\n",
            "Hai Revnub , Umurmu 18 , Dasar Tuek\n"
          ],
          "name": "stdout"
        }
      ]
    },
    {
      "cell_type": "code",
      "metadata": {
        "id": "TGNHPfeswPmm",
        "outputId": "dfeb61ee-92e8-4873-fa74-b639735b2f8a",
        "colab": {
          "base_uri": "https://localhost:8080/",
          "height": 35
        }
      },
      "source": [
        "c = 6                   #global variable = diluar fungsi, local variable = dalam fungsi\n",
        "def operation(a, b):    #tanda fungsi yaitu def\n",
        "  hasil = a+b+c\n",
        "  return hasil\n",
        "\n",
        "print(operation(5, 8))"
      ],
      "execution_count": null,
      "outputs": [
        {
          "output_type": "stream",
          "text": [
            "19\n"
          ],
          "name": "stdout"
        }
      ]
    },
    {
      "cell_type": "code",
      "metadata": {
        "id": "8wpYwn4xxYf4",
        "outputId": "25563823-a385-42b3-909e-51971b72a950",
        "colab": {
          "base_uri": "https://localhost:8080/",
          "height": 35
        }
      },
      "source": [
        "c = 6                   \n",
        "def operation(a, b, d = 7)\n",
        "  hasil = a+b+c+d\n",
        "  return hasil\n",
        "\n",
        "print(operation(5, 8, 3))"
      ],
      "execution_count": null,
      "outputs": [
        {
          "output_type": "stream",
          "text": [
            "22\n"
          ],
          "name": "stdout"
        }
      ]
    },
    {
      "cell_type": "code",
      "metadata": {
        "id": "sBHbK9h_x3HY",
        "outputId": "28614191-6737-4ba8-a1bd-4ad4d130c915",
        "colab": {
          "base_uri": "https://localhost:8080/",
          "height": 35
        }
      },
      "source": [
        "def operation2(a, b):\n",
        "  penjumlahan = a + b\n",
        "  pengurangan = a - b\n",
        "  return penjumlahan, pengurangan\n",
        "\n",
        "print(operation2(3, 4))"
      ],
      "execution_count": null,
      "outputs": [
        {
          "output_type": "stream",
          "text": [
            "(7, -1)\n"
          ],
          "name": "stdout"
        }
      ]
    },
    {
      "cell_type": "code",
      "metadata": {
        "id": "XCTqDTapzRQV",
        "outputId": "7f958831-a82c-4fcf-9866-dd1a362d4a25",
        "colab": {
          "base_uri": "https://localhost:8080/",
          "height": 35
        }
      },
      "source": [
        "def operation2(a, b):\n",
        "  penjumlahan = a + b\n",
        "  pengurangan = a - b\n",
        "\n",
        "\n",
        "print(operation2(3, 4))"
      ],
      "execution_count": null,
      "outputs": [
        {
          "output_type": "stream",
          "text": [
            "None\n"
          ],
          "name": "stdout"
        }
      ]
    },
    {
      "cell_type": "markdown",
      "metadata": {
        "id": "iCzIvkBiz0BB"
      },
      "source": [
        "LIBRARY NUMPY\n",
        "\n",
        "\n"
      ]
    },
    {
      "cell_type": "code",
      "metadata": {
        "id": "bCvMbhhCz4qN"
      },
      "source": [
        "import numpy as np"
      ],
      "execution_count": null,
      "outputs": []
    },
    {
      "cell_type": "code",
      "metadata": {
        "id": "EtdC6V-30Ei7",
        "outputId": "f8362625-4ccd-4ce0-af03-4808e26bbf17",
        "colab": {
          "base_uri": "https://localhost:8080/",
          "height": 35
        }
      },
      "source": [
        "a = [1,2,3,4,5,6]\n",
        "b = [6,5,4,3,2,1]\n",
        "a+b"
      ],
      "execution_count": null,
      "outputs": [
        {
          "output_type": "execute_result",
          "data": {
            "text/plain": [
              "[1, 2, 3, 4, 5, 6, 6, 5, 4, 3, 2, 1]"
            ]
          },
          "metadata": {
            "tags": []
          },
          "execution_count": 113
        }
      ]
    },
    {
      "cell_type": "code",
      "metadata": {
        "id": "we-9G7zO0Tr5",
        "outputId": "cd9d5237-7a41-4da8-8f90-780bae8cc996",
        "colab": {
          "base_uri": "https://localhost:8080/",
          "height": 124
        }
      },
      "source": [
        "h1 = np.array(a)\n",
        "h2 = np.array(b)\n",
        "\n",
        "print(h1+h2)\n",
        "print(h1-h2)\n",
        "print(h1**h2)\n",
        "print(h1*h2)\n",
        "print(h1/h2)\n",
        "print(h1//h2)"
      ],
      "execution_count": null,
      "outputs": [
        {
          "output_type": "stream",
          "text": [
            "[7 7 7 7 7 7]\n",
            "[-5 -3 -1  1  3  5]\n",
            "[ 1 32 81 64 25  6]\n",
            "[ 6 10 12 12 10  6]\n",
            "[0.16666667 0.4        0.75       1.33333333 2.5        6.        ]\n",
            "[0 0 0 1 2 6]\n"
          ],
          "name": "stdout"
        }
      ]
    },
    {
      "cell_type": "code",
      "metadata": {
        "id": "j5qVZXKs1HCK"
      },
      "source": [
        "a = list(range(1000))"
      ],
      "execution_count": null,
      "outputs": []
    },
    {
      "cell_type": "code",
      "metadata": {
        "id": "NlmWsXFz1fiy",
        "outputId": "faccffb7-0e00-42e9-fcac-6775a0967334",
        "colab": {
          "base_uri": "https://localhost:8080/",
          "height": 35
        }
      },
      "source": [
        "%timeit sum(a)"
      ],
      "execution_count": null,
      "outputs": [
        {
          "output_type": "stream",
          "text": [
            "100000 loops, best of 3: 4 µs per loop\n"
          ],
          "name": "stdout"
        }
      ]
    },
    {
      "cell_type": "code",
      "metadata": {
        "id": "aZN0LDQ82NPC",
        "outputId": "56681ae1-307a-4437-daf2-04a87fda6a4e",
        "colab": {
          "base_uri": "https://localhost:8080/",
          "height": 53
        }
      },
      "source": [
        "b = np.array(a)\n",
        "\n",
        "%timeit np.sum(b)"
      ],
      "execution_count": null,
      "outputs": [
        {
          "output_type": "stream",
          "text": [
            "The slowest run took 255.95 times longer than the fastest. This could mean that an intermediate result is being cached.\n",
            "100000 loops, best of 3: 5.12 µs per loop\n"
          ],
          "name": "stdout"
        }
      ]
    },
    {
      "cell_type": "code",
      "metadata": {
        "id": "_-DcJycS2QWW",
        "outputId": "a9213c96-8386-495c-b6d1-40adf993628e",
        "colab": {
          "base_uri": "https://localhost:8080/",
          "height": 35
        }
      },
      "source": [
        "b.shape"
      ],
      "execution_count": null,
      "outputs": [
        {
          "output_type": "execute_result",
          "data": {
            "text/plain": [
              "(1000,)"
            ]
          },
          "metadata": {
            "tags": []
          },
          "execution_count": 7
        }
      ]
    },
    {
      "cell_type": "code",
      "metadata": {
        "id": "mr3C2R_42YaQ",
        "outputId": "cd50c2ea-a4d6-4ac4-bc50-8539297ad5c0",
        "colab": {
          "base_uri": "https://localhost:8080/",
          "height": 35
        }
      },
      "source": [
        "b.dtype        #tipe data"
      ],
      "execution_count": null,
      "outputs": [
        {
          "output_type": "execute_result",
          "data": {
            "text/plain": [
              "dtype('int64')"
            ]
          },
          "metadata": {
            "tags": []
          },
          "execution_count": 8
        }
      ]
    },
    {
      "cell_type": "code",
      "metadata": {
        "id": "CE0vTrQt2ing",
        "outputId": "e22a17aa-309e-42a6-a9ba-7d25f68c7a78",
        "colab": {
          "base_uri": "https://localhost:8080/",
          "height": 35
        }
      },
      "source": [
        "a = [1,2,3,4,-5]\n",
        "b = np.array(a, np.uint8)     #diakhir 2 pangkat 8 dikurang angka terakhir \n",
        "print(b)"
      ],
      "execution_count": null,
      "outputs": [
        {
          "output_type": "stream",
          "text": [
            "[  1   2   3   4 251]\n"
          ],
          "name": "stdout"
        }
      ]
    },
    {
      "cell_type": "code",
      "metadata": {
        "id": "lKyyJJvQ3vYQ",
        "outputId": "4ba9c95d-3112-4c1c-c1d8-c808ca089d52",
        "colab": {
          "base_uri": "https://localhost:8080/",
          "height": 35
        }
      },
      "source": [
        "b = b.astype(np.float32)      #mengganti tipe data\n",
        "print(b)"
      ],
      "execution_count": null,
      "outputs": [
        {
          "output_type": "stream",
          "text": [
            "[  1.   2.   3.   4. 251.]\n"
          ],
          "name": "stdout"
        }
      ]
    },
    {
      "cell_type": "code",
      "metadata": {
        "id": "6JXtLcLA4Yhm",
        "outputId": "e73a0066-8964-48bc-f23a-247673532b31",
        "colab": {
          "base_uri": "https://localhost:8080/",
          "height": 71
        }
      },
      "source": [
        "b = np.arange(3, 8, 0.5)   #np.arrange(nilai awal, nilai akhir, kenaikan)\n",
        "c = np.linspace(0, 10, 8)  #np.linspace(nilai awal, nilai akhir, jumlah data)\n",
        "print(b)\n",
        "print(c)"
      ],
      "execution_count": null,
      "outputs": [
        {
          "output_type": "stream",
          "text": [
            "[3.  3.5 4.  4.5 5.  5.5 6.  6.5 7.  7.5]\n",
            "[ 0.          1.42857143  2.85714286  4.28571429  5.71428571  7.14285714\n",
            "  8.57142857 10.        ]\n"
          ],
          "name": "stdout"
        }
      ]
    },
    {
      "cell_type": "code",
      "metadata": {
        "id": "0odhP6SU5MG0",
        "outputId": "481ebe8e-1309-490b-b3aa-a7ea207f15de",
        "colab": {
          "base_uri": "https://localhost:8080/",
          "height": 71
        }
      },
      "source": [
        "print(c)\n",
        "print(c[0:7:5])     # dari nilai 0 sampe 7 dengan kenaikan 5"
      ],
      "execution_count": null,
      "outputs": [
        {
          "output_type": "stream",
          "text": [
            "[ 0.          1.42857143  2.85714286  4.28571429  5.71428571  7.14285714\n",
            "  8.57142857 10.        ]\n",
            "[0.         7.14285714]\n"
          ],
          "name": "stdout"
        }
      ]
    },
    {
      "cell_type": "code",
      "metadata": {
        "id": "LCsArpn25mgu",
        "outputId": "0bdcfb2f-1f66-4e7a-ae29-6eb1dd29b43e",
        "colab": {
          "base_uri": "https://localhost:8080/",
          "height": 71
        }
      },
      "source": [
        "print(c)\n",
        "print(c[[1, -1]])  #ngambil nilai ke 1 dan terakhir"
      ],
      "execution_count": null,
      "outputs": [
        {
          "output_type": "stream",
          "text": [
            "[ 0.          1.42857143  2.85714286  4.28571429  5.71428571  7.14285714\n",
            "  8.57142857 10.        ]\n",
            "[ 1.42857143 10.        ]\n"
          ],
          "name": "stdout"
        }
      ]
    },
    {
      "cell_type": "code",
      "metadata": {
        "id": "xdiMwThe56-S"
      },
      "source": [
        ""
      ],
      "execution_count": null,
      "outputs": []
    },
    {
      "cell_type": "code",
      "metadata": {
        "id": "Xee5LZ9k6C_q",
        "outputId": "b69385d7-a4de-4556-d648-d8caf08f6cfc",
        "colab": {
          "base_uri": "https://localhost:8080/",
          "height": 71
        }
      },
      "source": [
        "print(c)\n",
        "index = [0, 1, -2]   #ngambil nilai tertentu secara acak\n",
        "print(c[index])"
      ],
      "execution_count": null,
      "outputs": [
        {
          "output_type": "stream",
          "text": [
            "[ 0.          1.42857143  2.85714286  4.28571429  5.71428571  7.14285714\n",
            "  8.57142857 10.        ]\n",
            "[0.         1.42857143 8.57142857]\n"
          ],
          "name": "stdout"
        }
      ]
    },
    {
      "cell_type": "code",
      "metadata": {
        "id": "nykvQYJR6c7_",
        "outputId": "d46d51ab-fd8b-41c3-b16f-97cbfed287f4",
        "colab": {
          "base_uri": "https://localhost:8080/",
          "height": 71
        }
      },
      "source": [
        "print(c)\n",
        "mask = c < 2       #menentukan nilai T/F\n",
        "print(mask)"
      ],
      "execution_count": null,
      "outputs": [
        {
          "output_type": "stream",
          "text": [
            "[ 0.          1.42857143  2.85714286  4.28571429  5.71428571  7.14285714\n",
            "  8.57142857 10.        ]\n",
            "[ True  True False False False False False False]\n"
          ],
          "name": "stdout"
        }
      ]
    },
    {
      "cell_type": "code",
      "metadata": {
        "id": "tlBeiXK4666M",
        "outputId": "f151c85e-1d60-43bd-e925-6fb0fda916ae",
        "colab": {
          "base_uri": "https://localhost:8080/",
          "height": 88
        }
      },
      "source": [
        "print(c)\n",
        "mask = c < 2\n",
        "print(mask)\n",
        "\n",
        "c[mask] #menunjukkan nilai yang true"
      ],
      "execution_count": null,
      "outputs": [
        {
          "output_type": "stream",
          "text": [
            "[ 0.          1.42857143  2.85714286  4.28571429  5.71428571  7.14285714\n",
            "  8.57142857 10.        ]\n",
            "[ True  True False False False False False False]\n"
          ],
          "name": "stdout"
        },
        {
          "output_type": "execute_result",
          "data": {
            "text/plain": [
              "array([0.        , 1.42857143])"
            ]
          },
          "metadata": {
            "tags": []
          },
          "execution_count": 24
        }
      ]
    },
    {
      "cell_type": "code",
      "metadata": {
        "id": "EYu0q6W27ST2",
        "outputId": "9ed6b69c-f212-42c4-f336-64a1fc217289",
        "colab": {
          "base_uri": "https://localhost:8080/",
          "height": 35
        }
      },
      "source": [
        "c[c < 6]  #antara"
      ],
      "execution_count": null,
      "outputs": [
        {
          "output_type": "execute_result",
          "data": {
            "text/plain": [
              "array([0.        , 1.42857143, 2.85714286, 4.28571429, 5.71428571])"
            ]
          },
          "metadata": {
            "tags": []
          },
          "execution_count": 25
        }
      ]
    },
    {
      "cell_type": "code",
      "metadata": {
        "id": "YlefKLdl76fl",
        "outputId": "f28cc9ea-670f-4b2e-9722-dac6415e5eda",
        "colab": {
          "base_uri": "https://localhost:8080/",
          "height": 35
        }
      },
      "source": [
        "c[(c<6) * (c>1)]     #and/dan setara dengan tanda *, or/atau setara tanda +"
      ],
      "execution_count": null,
      "outputs": [
        {
          "output_type": "execute_result",
          "data": {
            "text/plain": [
              "array([1.42857143, 2.85714286, 4.28571429, 5.71428571])"
            ]
          },
          "metadata": {
            "tags": []
          },
          "execution_count": 26
        }
      ]
    },
    {
      "cell_type": "markdown",
      "metadata": {
        "id": "1-F4mVs99OQC"
      },
      "source": [
        "ARRAY 2D"
      ]
    },
    {
      "cell_type": "code",
      "metadata": {
        "id": "IIbuU9in9RKE",
        "outputId": "53f220a4-96e0-4b51-9146-b8c0cf415e6a",
        "colab": {
          "base_uri": "https://localhost:8080/",
          "height": 35
        }
      },
      "source": [
        "a = [[1,2,3,4], [4,3,2,1]]\n",
        "print(a)"
      ],
      "execution_count": null,
      "outputs": [
        {
          "output_type": "stream",
          "text": [
            "[[1, 2, 3, 4], [4, 3, 2, 1]]\n"
          ],
          "name": "stdout"
        }
      ]
    },
    {
      "cell_type": "code",
      "metadata": {
        "id": "t78U7vEj9kTm",
        "outputId": "18b44cc2-11b0-4f1d-d46b-74561ffa8bb3",
        "colab": {
          "base_uri": "https://localhost:8080/",
          "height": 53
        }
      },
      "source": [
        "b = np.array(a)\n",
        "print(b)"
      ],
      "execution_count": null,
      "outputs": [
        {
          "output_type": "stream",
          "text": [
            "[[1 2 3 4]\n",
            " [4 3 2 1]]\n"
          ],
          "name": "stdout"
        }
      ]
    },
    {
      "cell_type": "code",
      "metadata": {
        "id": "H5P2a5WI9veD",
        "outputId": "ae101472-79a8-4b01-8950-b088ca9c64da",
        "colab": {
          "base_uri": "https://localhost:8080/",
          "height": 53
        }
      },
      "source": [
        "c = np.arange(36)   #list dari 0 sampe 35 (36tidak termasuk)\n",
        "print(c)"
      ],
      "execution_count": null,
      "outputs": [
        {
          "output_type": "stream",
          "text": [
            "[ 0  1  2  3  4  5  6  7  8  9 10 11 12 13 14 15 16 17 18 19 20 21 22 23\n",
            " 24 25 26 27 28 29 30 31 32 33 34 35]\n"
          ],
          "name": "stdout"
        }
      ]
    },
    {
      "cell_type": "code",
      "metadata": {
        "id": "dT5J3RbG95Si",
        "outputId": "3f264849-282e-4a3b-d850-3c3482cbc2d9",
        "colab": {
          "base_uri": "https://localhost:8080/",
          "height": 124
        }
      },
      "source": [
        "d = c.reshape(6,6)\n",
        "print(d)"
      ],
      "execution_count": null,
      "outputs": [
        {
          "output_type": "stream",
          "text": [
            "[[ 0  1  2  3  4  5]\n",
            " [ 6  7  8  9 10 11]\n",
            " [12 13 14 15 16 17]\n",
            " [18 19 20 21 22 23]\n",
            " [24 25 26 27 28 29]\n",
            " [30 31 32 33 34 35]]\n"
          ],
          "name": "stdout"
        }
      ]
    },
    {
      "cell_type": "code",
      "metadata": {
        "id": "NXEM-y3F-YSJ",
        "outputId": "4f45400f-02bb-4dd5-892d-d15a44dabb0d",
        "colab": {
          "base_uri": "https://localhost:8080/",
          "height": 35
        }
      },
      "source": [
        "print(d.shape)"
      ],
      "execution_count": null,
      "outputs": [
        {
          "output_type": "stream",
          "text": [
            "(6, 6)\n"
          ],
          "name": "stdout"
        }
      ]
    },
    {
      "cell_type": "code",
      "metadata": {
        "id": "BlvBQTCz-kaX",
        "outputId": "cfafb5a3-e039-4628-e14c-45028a823705",
        "colab": {
          "base_uri": "https://localhost:8080/",
          "height": 88
        }
      },
      "source": [
        "contoh = np.arange(2,18).reshape(4,4)\n",
        "print(contoh)"
      ],
      "execution_count": null,
      "outputs": [
        {
          "output_type": "stream",
          "text": [
            "[[ 2  3  4  5]\n",
            " [ 6  7  8  9]\n",
            " [10 11 12 13]\n",
            " [14 15 16 17]]\n"
          ],
          "name": "stdout"
        }
      ]
    },
    {
      "cell_type": "code",
      "metadata": {
        "id": "cTTbxCZl-1wD",
        "outputId": "cdfbbacb-73e7-4ec6-8de6-b6ce74c65630",
        "colab": {
          "base_uri": "https://localhost:8080/",
          "height": 88
        }
      },
      "source": [
        "contoh = np.arange(2,18).reshape((4,4)).astype(np.float)\n",
        "print(contoh)"
      ],
      "execution_count": null,
      "outputs": [
        {
          "output_type": "stream",
          "text": [
            "[[ 2.  3.  4.  5.]\n",
            " [ 6.  7.  8.  9.]\n",
            " [10. 11. 12. 13.]\n",
            " [14. 15. 16. 17.]]\n"
          ],
          "name": "stdout"
        }
      ]
    },
    {
      "cell_type": "code",
      "metadata": {
        "id": "nfYi_dAV-8Kp",
        "outputId": "89e7ef76-d5ae-4de8-9078-40a0c71993bf",
        "colab": {
          "base_uri": "https://localhost:8080/",
          "height": 35
        }
      },
      "source": [
        "print(contoh[2, 2])   #[baris, kolom]"
      ],
      "execution_count": null,
      "outputs": [
        {
          "output_type": "stream",
          "text": [
            "12\n"
          ],
          "name": "stdout"
        }
      ]
    },
    {
      "cell_type": "code",
      "metadata": {
        "id": "Cdx0qaH1BIQU",
        "outputId": "658300fd-2244-49f1-f603-abfc993907dd",
        "colab": {
          "base_uri": "https://localhost:8080/",
          "height": 88
        }
      },
      "source": [
        "print(contoh[0])\n",
        "print(contoh[:, 1])\n",
        "print(contoh[2:, 2])\n",
        "print(contoh[3:, :2])"
      ],
      "execution_count": null,
      "outputs": [
        {
          "output_type": "stream",
          "text": [
            "[2 3 4 5]\n",
            "[ 3  7 11 15]\n",
            "[12 16]\n",
            "[[14 15]]\n"
          ],
          "name": "stdout"
        }
      ]
    },
    {
      "cell_type": "code",
      "metadata": {
        "id": "TOgLJQ_ICUJ6",
        "outputId": "09c7b051-79d6-4742-c82f-88afbe20d5ab",
        "colab": {
          "base_uri": "https://localhost:8080/",
          "height": 71
        }
      },
      "source": [
        "print(contoh[2:, 2:])\n",
        "print(contoh[1:3:2, 0:3:2])"
      ],
      "execution_count": null,
      "outputs": [
        {
          "output_type": "stream",
          "text": [
            "[[12 13]\n",
            " [16 17]]\n",
            "[[6 8]]\n"
          ],
          "name": "stdout"
        }
      ]
    },
    {
      "cell_type": "code",
      "metadata": {
        "id": "R11Dom-ADB22",
        "outputId": "5f1f0277-972a-4e7b-ba05-6d9b38c253fc",
        "colab": {
          "base_uri": "https://localhost:8080/",
          "height": 35
        }
      },
      "source": [
        "\n",
        "baris = [0,3]\n",
        "kolom = [1,2]\n",
        "print(contoh[baris, kolom])"
      ],
      "execution_count": null,
      "outputs": [
        {
          "output_type": "stream",
          "text": [
            "[ 3 16]\n"
          ],
          "name": "stdout"
        }
      ]
    },
    {
      "cell_type": "code",
      "metadata": {
        "id": "UcUJMUHCDU0M",
        "outputId": "6a183481-9dca-450f-f77b-9b150e6d706b",
        "colab": {
          "base_uri": "https://localhost:8080/",
          "height": 106
        }
      },
      "source": [
        "#Latihan\n",
        "\n",
        "x = np.arange(25).reshape(5,5)\n",
        "print(x)\n"
      ],
      "execution_count": null,
      "outputs": [
        {
          "output_type": "stream",
          "text": [
            "[[ 0  1  2  3  4]\n",
            " [ 5  6  7  8  9]\n",
            " [10 11 12 13 14]\n",
            " [15 16 17 18 19]\n",
            " [20 21 22 23 24]]\n"
          ],
          "name": "stdout"
        }
      ]
    },
    {
      "cell_type": "code",
      "metadata": {
        "id": "R2rS_ke7DkUO",
        "outputId": "c293645b-a825-4c33-d96e-f03bb3901b7d",
        "colab": {
          "base_uri": "https://localhost:8080/",
          "height": 106
        }
      },
      "source": [
        "#MERAH\n",
        "\n",
        "print(x[:, 1:4:2])"
      ],
      "execution_count": null,
      "outputs": [
        {
          "output_type": "stream",
          "text": [
            "[[ 1  3]\n",
            " [ 6  8]\n",
            " [11 13]\n",
            " [16 18]\n",
            " [21 23]]\n"
          ],
          "name": "stdout"
        }
      ]
    },
    {
      "cell_type": "code",
      "metadata": {
        "id": "nWoLGEaDFJeo",
        "outputId": "b0f14bca-157f-4fe5-a0ac-f2b4a96da7fe",
        "colab": {
          "base_uri": "https://localhost:8080/",
          "height": 106
        }
      },
      "source": [
        "#ABU\n",
        "\n",
        "kolom = [0,2, 4]\n",
        "print(x[:5, kolom])"
      ],
      "execution_count": null,
      "outputs": [
        {
          "output_type": "stream",
          "text": [
            "[[ 0  2  4]\n",
            " [ 5  7  9]\n",
            " [10 12 14]\n",
            " [15 17 19]\n",
            " [20 22 24]]\n"
          ],
          "name": "stdout"
        }
      ]
    },
    {
      "cell_type": "code",
      "metadata": {
        "id": "hpO0RyamFyyC",
        "outputId": "c0207b30-e0c6-4d12-c6ae-c49d2b77af93",
        "colab": {
          "base_uri": "https://localhost:8080/",
          "height": 35
        }
      },
      "source": [
        "#KUNING\n",
        "\n",
        "print(x[4:, :5])"
      ],
      "execution_count": null,
      "outputs": [
        {
          "output_type": "stream",
          "text": [
            "[[20 21 22 23 24]]\n"
          ],
          "name": "stdout"
        }
      ]
    },
    {
      "cell_type": "code",
      "metadata": {
        "id": "z3w0pfOjGNbs",
        "outputId": "d5903a32-a99d-4555-cea9-98defb3fa635",
        "colab": {
          "base_uri": "https://localhost:8080/",
          "height": 106
        }
      },
      "source": [
        "print(x)"
      ],
      "execution_count": null,
      "outputs": [
        {
          "output_type": "stream",
          "text": [
            "[[ 0  1  2  3  4]\n",
            " [ 5  6  7  8  9]\n",
            " [10 11 12 13 14]\n",
            " [15 16 17 18 19]\n",
            " [20 21 22 23 24]]\n"
          ],
          "name": "stdout"
        }
      ]
    },
    {
      "cell_type": "code",
      "metadata": {
        "id": "r9E9Z175GRxZ",
        "outputId": "93655d92-4b64-46f6-8eba-41a22badaaa8",
        "colab": {
          "base_uri": "https://localhost:8080/",
          "height": 71
        }
      },
      "source": [
        "#BIRU\n",
        "\n",
        "print(x[1:4:2, 0:3:2])   #atau\n",
        "print(x[[1,1,3,3], [0,2,0,2]])"
      ],
      "execution_count": null,
      "outputs": [
        {
          "output_type": "stream",
          "text": [
            "[[ 5  7]\n",
            " [15 17]]\n",
            "[ 5  7 15 17]\n"
          ],
          "name": "stdout"
        }
      ]
    },
    {
      "cell_type": "code",
      "metadata": {
        "id": "cYt6ESthJ7TW",
        "outputId": "e98a284a-430e-4917-e243-47366f4a5cd6",
        "colab": {
          "base_uri": "https://localhost:8080/",
          "height": 124
        }
      },
      "source": [
        "song = np.zeros((6,6))\n",
        "print(song)"
      ],
      "execution_count": null,
      "outputs": [
        {
          "output_type": "stream",
          "text": [
            "[[0. 0. 0. 0. 0. 0.]\n",
            " [0. 0. 0. 0. 0. 0.]\n",
            " [0. 0. 0. 0. 0. 0.]\n",
            " [0. 0. 0. 0. 0. 0.]\n",
            " [0. 0. 0. 0. 0. 0.]\n",
            " [0. 0. 0. 0. 0. 0.]]\n"
          ],
          "name": "stdout"
        }
      ]
    },
    {
      "cell_type": "code",
      "metadata": {
        "id": "dolUJMhDKARQ",
        "outputId": "4de3ad3b-bca0-4eea-ffe1-6ab2d30b73a9",
        "colab": {
          "base_uri": "https://localhost:8080/",
          "height": 124
        }
      },
      "source": [
        "satu = np.ones((6,6))\n",
        "print(satu)"
      ],
      "execution_count": null,
      "outputs": [
        {
          "output_type": "stream",
          "text": [
            "[[1. 1. 1. 1. 1. 1.]\n",
            " [1. 1. 1. 1. 1. 1.]\n",
            " [1. 1. 1. 1. 1. 1.]\n",
            " [1. 1. 1. 1. 1. 1.]\n",
            " [1. 1. 1. 1. 1. 1.]\n",
            " [1. 1. 1. 1. 1. 1.]]\n"
          ],
          "name": "stdout"
        }
      ]
    },
    {
      "cell_type": "code",
      "metadata": {
        "id": "LsQCZ8J7KFzs",
        "outputId": "275bd9d4-3ca9-415c-b566-cd75ef271070",
        "colab": {
          "base_uri": "https://localhost:8080/",
          "height": 88
        }
      },
      "source": [
        "acak = np.random.random((4,4))\n",
        "print(acak)"
      ],
      "execution_count": null,
      "outputs": [
        {
          "output_type": "stream",
          "text": [
            "[[0.53611281 0.43084743 0.37613724 0.13458906]\n",
            " [0.89276087 0.96020173 0.74660413 0.16721521]\n",
            " [0.18612431 0.83241138 0.6447217  0.35597367]\n",
            " [0.09923502 0.70567512 0.01497046 0.26271609]]\n"
          ],
          "name": "stdout"
        }
      ]
    },
    {
      "cell_type": "code",
      "metadata": {
        "id": "z31Lgu-4K4pM",
        "outputId": "accc12ca-2605-4f8d-9fb8-9b2eaf8b2926",
        "colab": {
          "base_uri": "https://localhost:8080/",
          "height": 88
        }
      },
      "source": [
        "test = np.random.randint(10, 100, (4,4))\n",
        "print(test)"
      ],
      "execution_count": null,
      "outputs": [
        {
          "output_type": "stream",
          "text": [
            "[[46 62 28 97]\n",
            " [87 25 75 33]\n",
            " [42 50 16 67]\n",
            " [24 45 45 27]]\n"
          ],
          "name": "stdout"
        }
      ]
    },
    {
      "cell_type": "code",
      "metadata": {
        "id": "hwTi0-tRLCZu",
        "outputId": "f85c1ec9-0f90-4584-edd0-f34145184c82",
        "colab": {
          "base_uri": "https://localhost:8080/",
          "height": 35
        }
      },
      "source": [
        "nilai = test < 50\n",
        "nilai = test[nilai] #Masking / menunjukkan nilai yg memenuhi (<50)\n",
        "print(nilai)"
      ],
      "execution_count": null,
      "outputs": [
        {
          "output_type": "stream",
          "text": [
            "[46 28 25 33 42 16 24 45 45 27]\n"
          ],
          "name": "stdout"
        }
      ]
    },
    {
      "cell_type": "code",
      "metadata": {
        "id": "nY1iTzuuLbuA",
        "outputId": "4ac56b71-1710-49ce-a858-1a0fae80e461",
        "colab": {
          "base_uri": "https://localhost:8080/",
          "height": 35
        }
      },
      "source": [
        "np.where(test < 20)   #Letak yang kurang dari 20"
      ],
      "execution_count": null,
      "outputs": [
        {
          "output_type": "execute_result",
          "data": {
            "text/plain": [
              "(array([2]), array([2]))"
            ]
          },
          "metadata": {
            "tags": []
          },
          "execution_count": 79
        }
      ]
    },
    {
      "cell_type": "code",
      "metadata": {
        "id": "aWbZN2rSLRhj",
        "outputId": "8298175a-f324-4497-99a6-1e85eb266838",
        "colab": {
          "base_uri": "https://localhost:8080/",
          "height": 35
        }
      },
      "source": [
        "np.max(test) #menunjukkan nilai maksimal\n"
      ],
      "execution_count": null,
      "outputs": [
        {
          "output_type": "execute_result",
          "data": {
            "text/plain": [
              "97"
            ]
          },
          "metadata": {
            "tags": []
          },
          "execution_count": 82
        }
      ]
    },
    {
      "cell_type": "code",
      "metadata": {
        "id": "YQWu0OMbL-pv",
        "outputId": "3589b357-95dc-42cf-9fce-f286b92c0a21",
        "colab": {
          "base_uri": "https://localhost:8080/",
          "height": 35
        }
      },
      "source": [
        "np.argmax(test) #menunjukkan nilai maksimal dlm urutan"
      ],
      "execution_count": null,
      "outputs": [
        {
          "output_type": "execute_result",
          "data": {
            "text/plain": [
              "3"
            ]
          },
          "metadata": {
            "tags": []
          },
          "execution_count": 83
        }
      ]
    },
    {
      "cell_type": "code",
      "metadata": {
        "id": "I4b2dj_cMUsL",
        "outputId": "a464a5c7-8dfb-43fd-de4a-47db62488047",
        "colab": {
          "base_uri": "https://localhost:8080/",
          "height": 35
        }
      },
      "source": [
        "np.where(test == np.max(test)) #menunjukkan letak nilai maksimal dalam bentuk posisi matriks"
      ],
      "execution_count": null,
      "outputs": [
        {
          "output_type": "execute_result",
          "data": {
            "text/plain": [
              "(array([0]), array([3]))"
            ]
          },
          "metadata": {
            "tags": []
          },
          "execution_count": 85
        }
      ]
    },
    {
      "cell_type": "code",
      "metadata": {
        "id": "TJbmkYDJNGr0",
        "outputId": "92be15cc-e8d3-42b0-9a00-76e10c73d995",
        "colab": {
          "base_uri": "https://localhost:8080/",
          "height": 35
        }
      },
      "source": [
        "print(np.max(test, axis = 0)) #Nilai maksimal tiap kolom"
      ],
      "execution_count": null,
      "outputs": [
        {
          "output_type": "stream",
          "text": [
            "[87 62 75 97]\n"
          ],
          "name": "stdout"
        }
      ]
    },
    {
      "cell_type": "code",
      "metadata": {
        "id": "MUcwQCknNVNG",
        "outputId": "62eff059-cb05-4813-c757-de8f4c612134",
        "colab": {
          "base_uri": "https://localhost:8080/",
          "height": 35
        }
      },
      "source": [
        "print(np.max(test, axis = 1)) #Nilai maksimal tiap baris"
      ],
      "execution_count": null,
      "outputs": [
        {
          "output_type": "stream",
          "text": [
            "[97 87 67 45]\n"
          ],
          "name": "stdout"
        }
      ]
    },
    {
      "cell_type": "code",
      "metadata": {
        "id": "JxmHSep3NjCz",
        "outputId": "b1159fc7-777f-4277-b4df-0d7811857847",
        "colab": {
          "base_uri": "https://localhost:8080/",
          "height": 35
        }
      },
      "source": [
        "print(np.min(test, axis = 0)) #Nilai minimal tiap kolom"
      ],
      "execution_count": null,
      "outputs": [
        {
          "output_type": "stream",
          "text": [
            "[24 25 16 27]\n"
          ],
          "name": "stdout"
        }
      ]
    },
    {
      "cell_type": "code",
      "metadata": {
        "id": "V7Ta49FpMAPt",
        "outputId": "4af6b033-506f-4405-a7ab-d32450615ef9",
        "colab": {
          "base_uri": "https://localhost:8080/",
          "height": 35
        }
      },
      "source": [
        "print(np.min(test, axis = 1)) #Nilai minimal tiap baris"
      ],
      "execution_count": null,
      "outputs": [
        {
          "output_type": "stream",
          "text": [
            "[28 25 16 24]\n"
          ],
          "name": "stdout"
        }
      ]
    },
    {
      "cell_type": "code",
      "metadata": {
        "id": "jzfq_cwWN68o",
        "outputId": "f0d787b0-4712-4cf9-93c7-1ef822c43d1f",
        "colab": {
          "base_uri": "https://localhost:8080/",
          "height": 35
        }
      },
      "source": [
        "print(np.argmin(test, axis = 0)) #Letak nilai minimum tiap kolom"
      ],
      "execution_count": null,
      "outputs": [
        {
          "output_type": "stream",
          "text": [
            "[3 1 2 3]\n"
          ],
          "name": "stdout"
        }
      ]
    },
    {
      "cell_type": "code",
      "metadata": {
        "id": "5x2GkdbBOAYw",
        "outputId": "030e9c06-a597-47d3-8499-a3ce2b2d2d7b",
        "colab": {
          "base_uri": "https://localhost:8080/",
          "height": 35
        }
      },
      "source": [
        "print(np.argmin(test, axis = 1)) #Letak nilai maksimum tiap kolom"
      ],
      "execution_count": null,
      "outputs": [
        {
          "output_type": "stream",
          "text": [
            "[2 1 2 0]\n"
          ],
          "name": "stdout"
        }
      ]
    }
  ]
}